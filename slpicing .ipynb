{
 "cells": [
  {
   "cell_type": "code",
   "execution_count": 1,
   "id": "97b57830-e944-4f2f-bd9f-67f50188a371",
   "metadata": {},
   "outputs": [],
   "source": [
    "name = \"umme tazaen ansari\""
   ]
  },
  {
   "cell_type": "code",
   "execution_count": 2,
   "id": "63d4ec34-2a68-4ca5-957a-e1983514f277",
   "metadata": {},
   "outputs": [
    {
     "data": {
      "text/plain": [
       "'umme tazaen ansari'"
      ]
     },
     "execution_count": 2,
     "metadata": {},
     "output_type": "execute_result"
    }
   ],
   "source": [
    "name"
   ]
  },
  {
   "cell_type": "code",
   "execution_count": 3,
   "id": "63f355c7-b428-42e2-be12-4f0814ed7023",
   "metadata": {},
   "outputs": [
    {
     "data": {
      "text/plain": [
       "'a'"
      ]
     },
     "execution_count": 3,
     "metadata": {},
     "output_type": "execute_result"
    }
   ],
   "source": [
    "name[6]"
   ]
  },
  {
   "cell_type": "code",
   "execution_count": 5,
   "id": "8d6400d1-9ea9-4259-92d8-de63f2d3f865",
   "metadata": {},
   "outputs": [],
   "source": [
    "#sliccing operation"
   ]
  },
  {
   "cell_type": "code",
   "execution_count": 6,
   "id": "31284f39-6755-41d5-b171-ae6f7532bb05",
   "metadata": {},
   "outputs": [
    {
     "data": {
      "text/plain": [
       "'e'"
      ]
     },
     "execution_count": 6,
     "metadata": {},
     "output_type": "execute_result"
    }
   ],
   "source": [
    "name[6-1-2]"
   ]
  },
  {
   "cell_type": "code",
   "execution_count": 8,
   "id": "2e59d143-9049-4f47-adda-dcdd57a35827",
   "metadata": {},
   "outputs": [
    {
     "data": {
      "text/plain": [
       "''"
      ]
     },
     "execution_count": 8,
     "metadata": {},
     "output_type": "execute_result"
    }
   ],
   "source": [
    "name[-6:-1:-2]"
   ]
  },
  {
   "cell_type": "code",
   "execution_count": 11,
   "id": "0c9aa8e6-214d-402d-b10b-de4f4cf04f4a",
   "metadata": {},
   "outputs": [
    {
     "data": {
      "text/plain": [
       "'at e'"
      ]
     },
     "execution_count": 11,
     "metadata": {},
     "output_type": "execute_result"
    }
   ],
   "source": [
    "name[6:2:-1]"
   ]
  },
  {
   "cell_type": "markdown",
   "id": "7045b21d-52bd-4a5b-aec1-17a2d646fce4",
   "metadata": {},
   "source": []
  },
  {
   "cell_type": "code",
   "execution_count": 12,
   "id": "460877af-fdd2-454e-af9f-af4baa58c279",
   "metadata": {},
   "outputs": [
    {
     "data": {
      "text/plain": [
       "'umme tazaen ansari'"
      ]
     },
     "execution_count": 12,
     "metadata": {},
     "output_type": "execute_result"
    }
   ],
   "source": [
    "name"
   ]
  },
  {
   "cell_type": "code",
   "execution_count": 14,
   "id": "013ee696-80a9-42fa-9406-c4b02c98e1d7",
   "metadata": {},
   "outputs": [
    {
     "data": {
      "text/plain": [
       "'a neazat e'"
      ]
     },
     "execution_count": 14,
     "metadata": {},
     "output_type": "execute_result"
    }
   ],
   "source": [
    "name[-6:2:-1]"
   ]
  },
  {
   "cell_type": "code",
   "execution_count": 15,
   "id": "0650030a-6d51-46bf-a8e4-b2227dae9b12",
   "metadata": {},
   "outputs": [
    {
     "data": {
      "text/plain": [
       "'aen ans'"
      ]
     },
     "execution_count": 15,
     "metadata": {},
     "output_type": "execute_result"
    }
   ],
   "source": [
    "name [-10:-3:1]"
   ]
  },
  {
   "cell_type": "code",
   "execution_count": 16,
   "id": "66a7d76a-e528-4ab9-8e1a-d61c3eb2f6ef",
   "metadata": {},
   "outputs": [
    {
     "data": {
      "text/plain": [
       "'a'"
      ]
     },
     "execution_count": 16,
     "metadata": {},
     "output_type": "execute_result"
    }
   ],
   "source": [
    "name[-3:-1:2]"
   ]
  },
  {
   "cell_type": "code",
   "execution_count": 17,
   "id": "e6409c2a-1dd2-4cc0-94fe-52a21c8b8107",
   "metadata": {},
   "outputs": [
    {
     "data": {
      "text/plain": [
       "''"
      ]
     },
     "execution_count": 17,
     "metadata": {},
     "output_type": "execute_result"
    }
   ],
   "source": [
    "name[-5:3:1]"
   ]
  },
  {
   "cell_type": "code",
   "execution_count": 18,
   "id": "60473615-f957-4141-a8dd-2b7f079ea9e3",
   "metadata": {},
   "outputs": [
    {
     "data": {
      "text/plain": [
       "'n'"
      ]
     },
     "execution_count": 18,
     "metadata": {},
     "output_type": "execute_result"
    }
   ],
   "source": [
    "name[-8:11]"
   ]
  },
  {
   "cell_type": "code",
   "execution_count": 19,
   "id": "3cb1af24-19c6-48a3-8b4a-78320afb39fa",
   "metadata": {},
   "outputs": [
    {
     "data": {
      "text/plain": [
       "'n'"
      ]
     },
     "execution_count": 19,
     "metadata": {},
     "output_type": "execute_result"
    }
   ],
   "source": [
    "name[13]"
   ]
  },
  {
   "cell_type": "code",
   "execution_count": 20,
   "id": "1df7ace2-4dcd-4802-86f0-edcf7d24c332",
   "metadata": {},
   "outputs": [
    {
     "data": {
      "text/plain": [
       "'azaen ansa'"
      ]
     },
     "execution_count": 20,
     "metadata": {},
     "output_type": "execute_result"
    }
   ],
   "source": [
    "name[6:-2]"
   ]
  },
  {
   "cell_type": "code",
   "execution_count": 26,
   "id": "d6955f3b-d319-4433-8fd6-c02c93e73b4e",
   "metadata": {},
   "outputs": [
    {
     "data": {
      "text/plain": [
       "''"
      ]
     },
     "execution_count": 26,
     "metadata": {},
     "output_type": "execute_result"
    }
   ],
   "source": [
    "name [-1 :-1]"
   ]
  },
  {
   "cell_type": "code",
   "execution_count": 22,
   "id": "e1ecba69-7c47-475c-98a0-726e32f8d8fa",
   "metadata": {},
   "outputs": [
    {
     "data": {
      "text/plain": [
       "'nnz'"
      ]
     },
     "execution_count": 22,
     "metadata": {},
     "output_type": "execute_result"
    }
   ],
   "source": [
    "name[13:-14:-3]"
   ]
  },
  {
   "cell_type": "code",
   "execution_count": 23,
   "id": "7599b408-408c-4a29-bdc0-cbd78d787dcf",
   "metadata": {},
   "outputs": [
    {
     "data": {
      "text/plain": [
       "'umme tazaen ansari'"
      ]
     },
     "execution_count": 23,
     "metadata": {},
     "output_type": "execute_result"
    }
   ],
   "source": [
    "name"
   ]
  },
  {
   "cell_type": "code",
   "execution_count": 28,
   "id": "9b8c7620-d795-4bc8-8deb-a6ee766cf007",
   "metadata": {},
   "outputs": [
    {
     "data": {
      "text/plain": [
       "''"
      ]
     },
     "execution_count": 28,
     "metadata": {},
     "output_type": "execute_result"
    }
   ],
   "source": [
    "name[-1 :-1]"
   ]
  },
  {
   "cell_type": "markdown",
   "id": "b2e9b19c-00ff-4adc-87bc-b0e2987f341e",
   "metadata": {},
   "source": []
  },
  {
   "cell_type": "code",
   "execution_count": 37,
   "id": "b5e19a0f-a641-422d-830f-69de86c9293b",
   "metadata": {},
   "outputs": [
    {
     "ename": "TypeError",
     "evalue": "can only concatenate str (not \"int\") to str",
     "output_type": "error",
     "traceback": [
      "\u001b[0;31m---------------------------------------------------------------------------\u001b[0m",
      "\u001b[0;31mTypeError\u001b[0m                                 Traceback (most recent call last)",
      "Cell \u001b[0;32mIn[37], line 1\u001b[0m\n\u001b[0;32m----> 1\u001b[0m name\u001b[38;5;241m+\u001b[39m\u001b[38;5;241m1511\u001b[39m\n",
      "\u001b[0;31mTypeError\u001b[0m: can only concatenate str (not \"int\") to str"
     ]
    }
   ],
   "source": [
    "name+1511"
   ]
  },
  {
   "cell_type": "code",
   "execution_count": 36,
   "id": "5cac7f42-97ce-461c-b252-ca14d14fa91c",
   "metadata": {},
   "outputs": [
    {
     "data": {
      "text/plain": [
       "'umme tazaen ansari1511'"
      ]
     },
     "execution_count": 36,
     "metadata": {},
     "output_type": "execute_result"
    }
   ],
   "source": [
    "name+str(1511)"
   ]
  },
  {
   "cell_type": "code",
   "execution_count": 33,
   "id": "3a596275-fda6-470e-8b38-c37d49ce10cb",
   "metadata": {},
   "outputs": [
    {
     "ename": "SyntaxError",
     "evalue": "invalid syntax (1382263140.py, line 1)",
     "output_type": "error",
     "traceback": [
      "\u001b[0;36m  Cell \u001b[0;32mIn[33], line 1\u001b[0;36m\u001b[0m\n\u001b[0;31m    name1=umme tazaen ansari\u001b[0m\n\u001b[0m               ^\u001b[0m\n\u001b[0;31mSyntaxError\u001b[0m\u001b[0;31m:\u001b[0m invalid syntax\n"
     ]
    }
   ],
   "source": [
    "name1=umme tazaen ansari"
   ]
  },
  {
   "cell_type": "code",
   "execution_count": 34,
   "id": "84250828-7bce-4aea-b7f4-66eaaa9c0c7b",
   "metadata": {},
   "outputs": [
    {
     "ename": "NameError",
     "evalue": "name 'name1' is not defined",
     "output_type": "error",
     "traceback": [
      "\u001b[0;31m---------------------------------------------------------------------------\u001b[0m",
      "\u001b[0;31mNameError\u001b[0m                                 Traceback (most recent call last)",
      "Cell \u001b[0;32mIn[34], line 2\u001b[0m\n\u001b[1;32m      1\u001b[0m \u001b[38;5;66;03m#find the length of the name1\u001b[39;00m\n\u001b[0;32m----> 2\u001b[0m \u001b[38;5;28mlen\u001b[39m(name1)\n",
      "\u001b[0;31mNameError\u001b[0m: name 'name1' is not defined"
     ]
    }
   ],
   "source": [
    "#find the length of the name1\n",
    "len(name1)"
   ]
  },
  {
   "cell_type": "code",
   "execution_count": 35,
   "id": "eba2e7e6-1f44-4fac-a435-aed05416aa66",
   "metadata": {},
   "outputs": [
    {
     "data": {
      "text/plain": [
       "'umme tazaen ansariumme tazaen ansariumme tazaen ansariumme tazaen ansari'"
      ]
     },
     "execution_count": 35,
     "metadata": {},
     "output_type": "execute_result"
    }
   ],
   "source": [
    "name*4"
   ]
  },
  {
   "cell_type": "code",
   "execution_count": 38,
   "id": "5cecf5bd-59f5-404d-b20a-9964372e5b79",
   "metadata": {},
   "outputs": [
    {
     "data": {
      "text/plain": [
       "1"
      ]
     },
     "execution_count": 38,
     "metadata": {},
     "output_type": "execute_result"
    }
   ],
   "source": [
    "name.count('um')"
   ]
  },
  {
   "cell_type": "code",
   "execution_count": 40,
   "id": "b837fc8c-90ff-40c4-b5ad-01ba822dba95",
   "metadata": {},
   "outputs": [
    {
     "data": {
      "text/plain": [
       "['umme t', 'z', 'en ', 'ns', 'ri']"
      ]
     },
     "execution_count": 40,
     "metadata": {},
     "output_type": "execute_result"
    }
   ],
   "source": [
    "name.split('a')"
   ]
  },
  {
   "cell_type": "code",
   "execution_count": 41,
   "id": "1ee5a909-7592-40ac-83d2-80113379200f",
   "metadata": {},
   "outputs": [
    {
     "data": {
      "text/plain": [
       "list"
      ]
     },
     "execution_count": 41,
     "metadata": {},
     "output_type": "execute_result"
    }
   ],
   "source": [
    "type(name.split('i'))"
   ]
  },
  {
   "cell_type": "markdown",
   "id": "2e6bd520-2f2e-4866-8c69-44c571d27d25",
   "metadata": {},
   "source": []
  },
  {
   "cell_type": "code",
   "execution_count": 46,
   "id": "540f7ae7-87ad-4709-9622-27f8fc888c4b",
   "metadata": {},
   "outputs": [
    {
     "ename": "NameError",
     "evalue": "name 'name2' is not defined",
     "output_type": "error",
     "traceback": [
      "\u001b[0;31m---------------------------------------------------------------------------\u001b[0m",
      "\u001b[0;31mNameError\u001b[0m                                 Traceback (most recent call last)",
      "Cell \u001b[0;32mIn[46], line 1\u001b[0m\n\u001b[0;32m----> 1\u001b[0m name2\n\u001b[1;32m      2\u001b[0m \u001b[38;5;124m'\u001b[39m\u001b[38;5;124mumme tazaen ansari\u001b[39m\u001b[38;5;124m'\u001b[39m\n",
      "\u001b[0;31mNameError\u001b[0m: name 'name2' is not defined"
     ]
    }
   ],
   "source": [
    "name2\n",
    "'umme tazaen ansari'"
   ]
  },
  {
   "cell_type": "code",
   "execution_count": null,
   "id": "65fce70d-4975-4ab0-a8ae-aa7519871c72",
   "metadata": {},
   "outputs": [],
   "source": []
  }
 ],
 "metadata": {
  "kernelspec": {
   "display_name": "Python 3 (ipykernel)",
   "language": "python",
   "name": "python3"
  },
  "language_info": {
   "codemirror_mode": {
    "name": "ipython",
    "version": 3
   },
   "file_extension": ".py",
   "mimetype": "text/x-python",
   "name": "python",
   "nbconvert_exporter": "python",
   "pygments_lexer": "ipython3",
   "version": "3.12.4"
  }
 },
 "nbformat": 4,
 "nbformat_minor": 5
}
